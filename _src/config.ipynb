{
 "cells": [
  {
   "cell_type": "code",
   "execution_count": 0,
   "metadata": {
    "application/vnd.databricks.v1+cell": {
     "cellMetadata": {},
     "inputWidgets": {},
     "nuid": "a4fb8d09-af0c-4f62-8a0f-78663e41869c",
     "showTitle": false,
     "title": ""
    }
   },
   "outputs": [],
   "source": [
    "storage_account_name = \"bikesharedlake\""
   ]
  },
  {
   "cell_type": "code",
   "execution_count": 0,
   "metadata": {
    "application/vnd.databricks.v1+cell": {
     "cellMetadata": {},
     "inputWidgets": {},
     "nuid": "f619ffd8-1f70-4ce7-945e-26dc1f62d352",
     "showTitle": false,
     "title": ""
    }
   },
   "outputs": [],
   "source": [
    "lz_folder_path = f\"/mnt/{storage_account_name}/landingzone\"\n",
    "bronze_folder_path = f\"/mnt/{storage_account_name}/bronze\"\n",
    "silver_folder_path = f\"/mnt/{storage_account_name}/silver\"\n",
    "gold_folder_path = f\"/mnt/{storage_account_name}/gold\""
   ]
  }
 ],
 "metadata": {
  "application/vnd.databricks.v1+notebook": {
   "dashboards": [],
   "language": "python",
   "notebookMetadata": {
    "pythonIndentUnit": 4
   },
   "notebookName": "config",
   "widgets": {}
  }
 },
 "nbformat": 4,
 "nbformat_minor": 0
}
