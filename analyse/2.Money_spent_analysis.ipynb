{
 "cells": [
  {
   "cell_type": "markdown",
   "metadata": {
    "application/vnd.databricks.v1+cell": {
     "cellMetadata": {},
     "inputWidgets": {},
     "nuid": "4d1e02f2-71f0-452e-bc71-bc65162e876f",
     "showTitle": false,
     "title": ""
    }
   },
   "source": [
    "#### Total Money Spent per Month"
   ]
  },
  {
   "cell_type": "code",
   "execution_count": 0,
   "metadata": {
    "application/vnd.databricks.v1+cell": {
     "cellMetadata": {
      "byteLimit": 2048000,
      "rowLimit": 10000
     },
     "inputWidgets": {},
     "nuid": "fc4d960b-b03c-471a-92c1-4d17b491e5fe",
     "showTitle": false,
     "title": ""
    }
   },
   "outputs": [
    {
     "output_type": "display_data",
     "data": {
      "text/html": [
       "<style scoped>\n",
       "  .table-result-container {\n",
       "    max-height: 300px;\n",
       "    overflow: auto;\n",
       "  }\n",
       "  table, th, td {\n",
       "    border: 1px solid black;\n",
       "    border-collapse: collapse;\n",
       "  }\n",
       "  th, td {\n",
       "    padding: 5px;\n",
       "  }\n",
       "  th {\n",
       "    text-align: left;\n",
       "  }\n",
       "</style><div class='table-result-container'><table class='table-result'><thead style='background-color: white'><tr><th>month</th><th>total_spent</th></tr></thead><tbody><tr><td>2</td><td>1907807.27</td></tr><tr><td>1</td><td>1855786.83</td></tr><tr><td>12</td><td>1799778.46</td></tr><tr><td>11</td><td>1747273.57</td></tr><tr><td>10</td><td>1696207.32</td></tr><tr><td>9</td><td>1641916.4</td></tr><tr><td>8</td><td>1592322.58</td></tr><tr><td>7</td><td>1538960.88</td></tr><tr><td>6</td><td>1491227.58</td></tr><tr><td>5</td><td>1441270.19</td></tr><tr><td>4</td><td>1395762.78</td></tr><tr><td>3</td><td>1348782.39</td></tr></tbody></table></div>"
      ]
     },
     "metadata": {
      "application/vnd.databricks.v1+output": {
       "addedWidgets": {},
       "aggData": [],
       "aggError": "",
       "aggOverflow": false,
       "aggSchema": [],
       "aggSeriesLimitReached": false,
       "aggType": "",
       "arguments": {},
       "columnCustomDisplayInfos": {},
       "data": [
        [
         2,
         1907807.27
        ],
        [
         1,
         1855786.83
        ],
        [
         12,
         1799778.46
        ],
        [
         11,
         1747273.57
        ],
        [
         10,
         1696207.32
        ],
        [
         9,
         1641916.4
        ],
        [
         8,
         1592322.58
        ],
        [
         7,
         1538960.88
        ],
        [
         6,
         1491227.58
        ],
        [
         5,
         1441270.19
        ],
        [
         4,
         1395762.78
        ],
        [
         3,
         1348782.39
        ]
       ],
       "datasetInfos": [],
       "dbfsResultPath": null,
       "isJsonSchema": true,
       "metadata": {
        "isDbfsCommandResult": false
       },
       "overflow": false,
       "plotOptions": {
        "customPlotOptions": {},
        "displayType": "table",
        "pivotAggregation": null,
        "pivotColumns": null,
        "xColumns": null,
        "yColumns": null
       },
       "removedWidgets": [],
       "schema": [
        {
         "metadata": "{}",
         "name": "month",
         "type": "\"integer\""
        },
        {
         "metadata": "{}",
         "name": "total_spent",
         "type": "\"double\""
        }
       ],
       "type": "table"
      }
     },
     "output_type": "display_data"
    }
   ],
   "source": [
    "%sql\n",
    "SELECT\n",
    "    dc.month,\n",
    "    ROUND(SUM(fp.amount), 2) AS total_spent\n",
    "FROM\n",
    "    gold.fact_payment fp\n",
    "    JOIN gold.dim_calendar dc ON fp.date = dc.date_id\n",
    "GROUP BY\n",
    "    dc.month\n",
    "ORDER BY\n",
    "    total_spent DESC;"
   ]
  },
  {
   "cell_type": "markdown",
   "metadata": {
    "application/vnd.databricks.v1+cell": {
     "cellMetadata": {},
     "inputWidgets": {},
     "nuid": "60aa8f6e-25f7-4d23-b1e2-0a4d538c429c",
     "showTitle": false,
     "title": ""
    }
   },
   "source": [
    "#### Total Money Spent per Quarter"
   ]
  },
  {
   "cell_type": "code",
   "execution_count": 0,
   "metadata": {
    "application/vnd.databricks.v1+cell": {
     "cellMetadata": {
      "byteLimit": 2048000,
      "rowLimit": 10000
     },
     "inputWidgets": {},
     "nuid": "6296dbb0-fb25-4910-ad80-886de8d69562",
     "showTitle": false,
     "title": ""
    }
   },
   "outputs": [
    {
     "output_type": "display_data",
     "data": {
      "text/html": [
       "<style scoped>\n",
       "  .table-result-container {\n",
       "    max-height: 300px;\n",
       "    overflow: auto;\n",
       "  }\n",
       "  table, th, td {\n",
       "    border: 1px solid black;\n",
       "    border-collapse: collapse;\n",
       "  }\n",
       "  th, td {\n",
       "    padding: 5px;\n",
       "  }\n",
       "  th {\n",
       "    text-align: left;\n",
       "  }\n",
       "</style><div class='table-result-container'><table class='table-result'><thead style='background-color: white'><tr><th>quarter</th><th>total_spent</th></tr></thead><tbody><tr><td>4</td><td>5243259.35</td></tr><tr><td>1</td><td>5112376.49</td></tr><tr><td>3</td><td>4773199.86</td></tr><tr><td>2</td><td>4328260.55</td></tr></tbody></table></div>"
      ]
     },
     "metadata": {
      "application/vnd.databricks.v1+output": {
       "addedWidgets": {},
       "aggData": [],
       "aggError": "",
       "aggOverflow": false,
       "aggSchema": [],
       "aggSeriesLimitReached": false,
       "aggType": "",
       "arguments": {},
       "columnCustomDisplayInfos": {},
       "data": [
        [
         4,
         5243259.35
        ],
        [
         1,
         5112376.49
        ],
        [
         3,
         4773199.86
        ],
        [
         2,
         4328260.55
        ]
       ],
       "datasetInfos": [],
       "dbfsResultPath": null,
       "isJsonSchema": true,
       "metadata": {
        "isDbfsCommandResult": false
       },
       "overflow": false,
       "plotOptions": {
        "customPlotOptions": {},
        "displayType": "table",
        "pivotAggregation": null,
        "pivotColumns": null,
        "xColumns": null,
        "yColumns": null
       },
       "removedWidgets": [],
       "schema": [
        {
         "metadata": "{}",
         "name": "quarter",
         "type": "\"integer\""
        },
        {
         "metadata": "{}",
         "name": "total_spent",
         "type": "\"double\""
        }
       ],
       "type": "table"
      }
     },
     "output_type": "display_data"
    }
   ],
   "source": [
    "%sql\n",
    "SELECT\n",
    "    dc.quarter,\n",
    "    ROUND(SUM(fp.amount), 2) AS total_spent\n",
    "FROM\n",
    "    gold.fact_payment fp\n",
    "    JOIN gold.dim_calendar dc ON fp.date = dc.date_id\n",
    "GROUP BY\n",
    "    dc.quarter\n",
    "ORDER BY\n",
    "    total_spent DESC;"
   ]
  },
  {
   "cell_type": "markdown",
   "metadata": {
    "application/vnd.databricks.v1+cell": {
     "cellMetadata": {},
     "inputWidgets": {},
     "nuid": "8d988fd8-4f30-433b-aebf-66171da0806e",
     "showTitle": false,
     "title": ""
    }
   },
   "source": [
    "#### Total Money Spent per Year"
   ]
  },
  {
   "cell_type": "code",
   "execution_count": 0,
   "metadata": {
    "application/vnd.databricks.v1+cell": {
     "cellMetadata": {
      "byteLimit": 2048000,
      "rowLimit": 10000
     },
     "inputWidgets": {},
     "nuid": "cae247d1-8ac2-48b3-af06-258590d13398",
     "showTitle": false,
     "title": ""
    }
   },
   "outputs": [
    {
     "output_type": "display_data",
     "data": {
      "text/html": [
       "<style scoped>\n",
       "  .table-result-container {\n",
       "    max-height: 300px;\n",
       "    overflow: auto;\n",
       "  }\n",
       "  table, th, td {\n",
       "    border: 1px solid black;\n",
       "    border-collapse: collapse;\n",
       "  }\n",
       "  th, td {\n",
       "    padding: 5px;\n",
       "  }\n",
       "  th {\n",
       "    text-align: left;\n",
       "  }\n",
       "</style><div class='table-result-container'><table class='table-result'><thead style='background-color: white'><tr><th>year</th><th>total_spent</th></tr></thead><tbody><tr><td>2021</td><td>6081098.25</td></tr><tr><td>2020</td><td>4315449.4</td></tr><tr><td>2019</td><td>2978649.79</td></tr><tr><td>2018</td><td>2000105.5</td></tr><tr><td>2017</td><td>1308372.54</td></tr><tr><td>2022</td><td>1189970.45</td></tr><tr><td>2016</td><td>825120.81</td></tr><tr><td>2015</td><td>477233.22</td></tr><tr><td>2014</td><td>227402.95</td></tr><tr><td>2013</td><td>53693.34</td></tr></tbody></table></div>"
      ]
     },
     "metadata": {
      "application/vnd.databricks.v1+output": {
       "addedWidgets": {},
       "aggData": [],
       "aggError": "",
       "aggOverflow": false,
       "aggSchema": [],
       "aggSeriesLimitReached": false,
       "aggType": "",
       "arguments": {},
       "columnCustomDisplayInfos": {},
       "data": [
        [
         2021,
         6081098.25
        ],
        [
         2020,
         4315449.4
        ],
        [
         2019,
         2978649.79
        ],
        [
         2018,
         2000105.5
        ],
        [
         2017,
         1308372.54
        ],
        [
         2022,
         1189970.45
        ],
        [
         2016,
         825120.81
        ],
        [
         2015,
         477233.22
        ],
        [
         2014,
         227402.95
        ],
        [
         2013,
         53693.34
        ]
       ],
       "datasetInfos": [],
       "dbfsResultPath": null,
       "isJsonSchema": true,
       "metadata": {
        "isDbfsCommandResult": false
       },
       "overflow": false,
       "plotOptions": {
        "customPlotOptions": {},
        "displayType": "table",
        "pivotAggregation": null,
        "pivotColumns": null,
        "xColumns": null,
        "yColumns": null
       },
       "removedWidgets": [],
       "schema": [
        {
         "metadata": "{}",
         "name": "year",
         "type": "\"integer\""
        },
        {
         "metadata": "{}",
         "name": "total_spent",
         "type": "\"double\""
        }
       ],
       "type": "table"
      }
     },
     "output_type": "display_data"
    }
   ],
   "source": [
    "%sql\n",
    "SELECT\n",
    "    dc.year,\n",
    "    ROUND(SUM(fp.amount), 2) AS total_spent\n",
    "FROM\n",
    "    gold.fact_payment fp\n",
    "    JOIN gold.dim_calendar dc ON fp.date = dc.date_id\n",
    "GROUP BY\n",
    "    dc.year\n",
    "ORDER BY\n",
    "    SUM(fp.amount) DESC;"
   ]
  },
  {
   "cell_type": "markdown",
   "metadata": {
    "application/vnd.databricks.v1+cell": {
     "cellMetadata": {},
     "inputWidgets": {},
     "nuid": "e2db3a67-789c-4571-a896-4383dccefbfc",
     "showTitle": false,
     "title": ""
    }
   },
   "source": [
    "#### Total Money Spent by the age of the rider at account start"
   ]
  },
  {
   "cell_type": "code",
   "execution_count": 0,
   "metadata": {
    "application/vnd.databricks.v1+cell": {
     "cellMetadata": {
      "byteLimit": 2048000,
      "rowLimit": 10000
     },
     "inputWidgets": {},
     "nuid": "0d4b2440-82b4-4c6c-8380-4eb82008ab97",
     "showTitle": false,
     "title": ""
    }
   },
   "outputs": [
    {
     "output_type": "display_data",
     "data": {
      "text/html": [
       "<style scoped>\n",
       "  .table-result-container {\n",
       "    max-height: 300px;\n",
       "    overflow: auto;\n",
       "  }\n",
       "  table, th, td {\n",
       "    border: 1px solid black;\n",
       "    border-collapse: collapse;\n",
       "  }\n",
       "  th, td {\n",
       "    padding: 5px;\n",
       "  }\n",
       "  th {\n",
       "    text-align: left;\n",
       "  }\n",
       "</style><div class='table-result-container'><table class='table-result'><thead style='background-color: white'><tr><th>age</th><th>total_spent</th></tr></thead><tbody><tr><td>27</td><td>2.097218682E9</td></tr><tr><td>26</td><td>2.055976506E9</td></tr><tr><td>25</td><td>2.048023098E9</td></tr><tr><td>21</td><td>2.041440831E9</td></tr><tr><td>23</td><td>2.009567943E9</td></tr><tr><td>20</td><td>1.994103477E9</td></tr><tr><td>24</td><td>1.983324852E9</td></tr><tr><td>22</td><td>1.950153408E9</td></tr><tr><td>28</td><td>1.9352052E9</td></tr><tr><td>19</td><td>1.912105494E9</td></tr><tr><td>29</td><td>1.911132855E9</td></tr><tr><td>31</td><td>1.883686302E9</td></tr><tr><td>32</td><td>1.881360405E9</td></tr><tr><td>18</td><td>1.870837749E9</td></tr><tr><td>30</td><td>1.826641791E9</td></tr><tr><td>33</td><td>1.764727182E9</td></tr><tr><td>16</td><td>1.760758191E9</td></tr><tr><td>17</td><td>1.709127657E9</td></tr><tr><td>34</td><td>1.706438628E9</td></tr><tr><td>15</td><td>1.64031633E9</td></tr><tr><td>35</td><td>1.561583529E9</td></tr><tr><td>36</td><td>1.448796492E9</td></tr><tr><td>37</td><td>1.407360753E9</td></tr><tr><td>39</td><td>1.263434445E9</td></tr><tr><td>38</td><td>1.257480288E9</td></tr><tr><td>40</td><td>1.189553355E9</td></tr><tr><td>14</td><td>1.177478595E9</td></tr><tr><td>41</td><td>1.089694404E9</td></tr><tr><td>42</td><td>9.18828387E8</td></tr><tr><td>43</td><td>9.00870147E8</td></tr><tr><td>44</td><td>8.11622385E8</td></tr><tr><td>45</td><td>7.62228054E8</td></tr><tr><td>13</td><td>7.52114907E8</td></tr><tr><td>46</td><td>7.27171533E8</td></tr><tr><td>47</td><td>6.99239673E8</td></tr><tr><td>48</td><td>5.99853096E8</td></tr><tr><td>12</td><td>5.20772787E8</td></tr><tr><td>49</td><td>4.77411822E8</td></tr><tr><td>50</td><td>4.70176983E8</td></tr><tr><td>51</td><td>4.10480667E8</td></tr><tr><td>52</td><td>3.79967247E8</td></tr><tr><td>53</td><td>3.27051828E8</td></tr><tr><td>11</td><td>3.01334553E8</td></tr><tr><td>54</td><td>2.86216767E8</td></tr><tr><td>55</td><td>2.72546721E8</td></tr><tr><td>56</td><td>2.34568269E8</td></tr><tr><td>10</td><td>2.21265189E8</td></tr><tr><td>57</td><td>1.73490246E8</td></tr><tr><td>58</td><td>1.52080686E8</td></tr><tr><td>59</td><td>1.36354005E8</td></tr><tr><td>60</td><td>1.14182757E8</td></tr><tr><td>9</td><td>1.0568349E8</td></tr><tr><td>61</td><td>1.02672261E8</td></tr><tr><td>63</td><td>8.226315E7</td></tr><tr><td>62</td><td>5.4860544E7</td></tr><tr><td>65</td><td>5.4481194E7</td></tr><tr><td>8</td><td>5.3773623E7</td></tr><tr><td>66</td><td>4.5055665E7</td></tr><tr><td>67</td><td>4.2495561E7</td></tr><tr><td>64</td><td>3.7982439E7</td></tr><tr><td>68</td><td>2.4343182E7</td></tr><tr><td>70</td><td>2.3126301E7</td></tr><tr><td>71</td><td>2.0758662E7</td></tr><tr><td>69</td><td>1.8952821E7</td></tr><tr><td>7</td><td>1.7006328E7</td></tr><tr><td>72</td><td>9145566.0</td></tr><tr><td>73</td><td>5832567.0</td></tr><tr><td>74</td><td>2334744.0</td></tr><tr><td>75</td><td>590229.0</td></tr></tbody></table></div>"
      ]
     },
     "metadata": {
      "application/vnd.databricks.v1+output": {
       "addedWidgets": {},
       "aggData": [],
       "aggError": "",
       "aggOverflow": false,
       "aggSchema": [],
       "aggSeriesLimitReached": false,
       "aggType": "",
       "arguments": {},
       "columnCustomDisplayInfos": {},
       "data": [
        [
         27,
         2.097218682E9
        ],
        [
         26,
         2.055976506E9
        ],
        [
         25,
         2.048023098E9
        ],
        [
         21,
         2.041440831E9
        ],
        [
         23,
         2.009567943E9
        ],
        [
         20,
         1.994103477E9
        ],
        [
         24,
         1.983324852E9
        ],
        [
         22,
         1.950153408E9
        ],
        [
         28,
         1.9352052E9
        ],
        [
         19,
         1.912105494E9
        ],
        [
         29,
         1.911132855E9
        ],
        [
         31,
         1.883686302E9
        ],
        [
         32,
         1.881360405E9
        ],
        [
         18,
         1.870837749E9
        ],
        [
         30,
         1.826641791E9
        ],
        [
         33,
         1.764727182E9
        ],
        [
         16,
         1.760758191E9
        ],
        [
         17,
         1.709127657E9
        ],
        [
         34,
         1.706438628E9
        ],
        [
         15,
         1.64031633E9
        ],
        [
         35,
         1.561583529E9
        ],
        [
         36,
         1.448796492E9
        ],
        [
         37,
         1.407360753E9
        ],
        [
         39,
         1.263434445E9
        ],
        [
         38,
         1.257480288E9
        ],
        [
         40,
         1.189553355E9
        ],
        [
         14,
         1.177478595E9
        ],
        [
         41,
         1.089694404E9
        ],
        [
         42,
         9.18828387E8
        ],
        [
         43,
         9.00870147E8
        ],
        [
         44,
         8.11622385E8
        ],
        [
         45,
         7.62228054E8
        ],
        [
         13,
         7.52114907E8
        ],
        [
         46,
         7.27171533E8
        ],
        [
         47,
         6.99239673E8
        ],
        [
         48,
         5.99853096E8
        ],
        [
         12,
         5.20772787E8
        ],
        [
         49,
         4.77411822E8
        ],
        [
         50,
         4.70176983E8
        ],
        [
         51,
         4.10480667E8
        ],
        [
         52,
         3.79967247E8
        ],
        [
         53,
         3.27051828E8
        ],
        [
         11,
         3.01334553E8
        ],
        [
         54,
         2.86216767E8
        ],
        [
         55,
         2.72546721E8
        ],
        [
         56,
         2.34568269E8
        ],
        [
         10,
         2.21265189E8
        ],
        [
         57,
         1.73490246E8
        ],
        [
         58,
         1.52080686E8
        ],
        [
         59,
         1.36354005E8
        ],
        [
         60,
         1.14182757E8
        ],
        [
         9,
         1.0568349E8
        ],
        [
         61,
         1.02672261E8
        ],
        [
         63,
         8.226315E7
        ],
        [
         62,
         5.4860544E7
        ],
        [
         65,
         5.4481194E7
        ],
        [
         8,
         5.3773623E7
        ],
        [
         66,
         4.5055665E7
        ],
        [
         67,
         4.2495561E7
        ],
        [
         64,
         3.7982439E7
        ],
        [
         68,
         2.4343182E7
        ],
        [
         70,
         2.3126301E7
        ],
        [
         71,
         2.0758662E7
        ],
        [
         69,
         1.8952821E7
        ],
        [
         7,
         1.7006328E7
        ],
        [
         72,
         9145566.0
        ],
        [
         73,
         5832567.0
        ],
        [
         74,
         2334744.0
        ],
        [
         75,
         590229.0
        ]
       ],
       "datasetInfos": [],
       "dbfsResultPath": null,
       "isJsonSchema": true,
       "metadata": {
        "isDbfsCommandResult": false
       },
       "overflow": false,
       "plotOptions": {
        "customPlotOptions": {},
        "displayType": "table",
        "pivotAggregation": null,
        "pivotColumns": null,
        "xColumns": null,
        "yColumns": null
       },
       "removedWidgets": [],
       "schema": [
        {
         "metadata": "{}",
         "name": "age",
         "type": "\"long\""
        },
        {
         "metadata": "{}",
         "name": "total_spent",
         "type": "\"double\""
        }
       ],
       "type": "table"
      }
     },
     "output_type": "display_data"
    }
   ],
   "source": [
    "%sql\n",
    "SELECT\n",
    "    DATEDIFF(year, dr.birthday, dr.account_start_date) AS age,\n",
    "    ROUND(SUM(fp.amount), 2) AS total_spent\n",
    "FROM\n",
    "    gold.fact_payment fp\n",
    "    JOIN gold.dim_rider dr ON fp.rider_id = dr.rider_id\n",
    "    JOIN gold.dim_calendar dc ON fp.date = dc.date_id\n",
    "    JOIN gold.fact_trip ft ON dc.date_id = ft.trip_date\n",
    "WHERE dr.is_member = 1\n",
    "GROUP BY\n",
    "    DATEDIFF(year, dr.birthday, dr.account_start_date)\n",
    "ORDER BY\n",
    "    SUM(fp.amount) DESC;"
   ]
  },
  {
   "cell_type": "code",
   "execution_count": 0,
   "metadata": {
    "application/vnd.databricks.v1+cell": {
     "cellMetadata": {},
     "inputWidgets": {},
     "nuid": "5588a6fd-4e40-4bb8-8421-4bca4aab6fe4",
     "showTitle": false,
     "title": ""
    }
   },
   "outputs": [],
   "source": []
  }
 ],
 "metadata": {
  "application/vnd.databricks.v1+notebook": {
   "dashboards": [],
   "language": "python",
   "notebookMetadata": {
    "pythonIndentUnit": 4
   },
   "notebookName": "2.Money spent analysis",
   "widgets": {}
  }
 },
 "nbformat": 4,
 "nbformat_minor": 0
}
